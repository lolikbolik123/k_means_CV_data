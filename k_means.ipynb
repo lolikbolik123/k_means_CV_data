{
  "nbformat": 4,
  "nbformat_minor": 0,
  "metadata": {
    "colab": {
      "provenance": [],
      "include_colab_link": true
    },
    "kernelspec": {
      "name": "python3",
      "display_name": "Python 3"
    },
    "language_info": {
      "name": "python"
    }
  },
  "cells": [
    {
      "cell_type": "markdown",
      "metadata": {
        "id": "view-in-github",
        "colab_type": "text"
      },
      "source": [
        "<a href=\"https://colab.research.google.com/github/lolikbolik123/k_means_CV_data/blob/main/k_means.ipynb\" target=\"_parent\"><img src=\"https://colab.research.google.com/assets/colab-badge.svg\" alt=\"Open In Colab\"/></a>"
      ]
    },
    {
      "cell_type": "code",
      "execution_count": null,
      "metadata": {
        "id": "6paY8TBc4j29"
      },
      "outputs": [],
      "source": [
        "import numpy as np\n",
        "import csv\n",
        "import pandas as pd\n",
        "df = pd.read_csv('PC_csv_k_mean.csv', usecols = ['Eox', 'Ered', 'E00'])\n"
      ]
    },
    {
      "cell_type": "code",
      "source": [
        "X = df.loc[:, [\"Eox\", \"Ered\"]].to_numpy()\n",
        "Y = df.loc[:, \"E00\"].to_numpy()\n"
      ],
      "metadata": {
        "id": "OfdjhmlDciOp"
      },
      "execution_count": null,
      "outputs": []
    },
    {
      "cell_type": "code",
      "source": [
        "from sklearn.model_selection import cross_val_score\n",
        "from sklearn.model_selection import RepeatedKFold\n",
        "from sklearn.linear_model import LinearRegression\n",
        "from sklearn.metrics import r2_score\n",
        "reg = LinearRegression()\n",
        "rkf = RepeatedKFold(n_splits=5, n_repeats=100, random_state = 100500)\n",
        "score = cross_val_score(reg, X, Y, cv=rkf, scoring = 'r2')\n",
        "print(np.median(score)) #0.8993827654947839\n",
        "print(np.mean(score)) #0.8760601468314424"
      ],
      "metadata": {
        "id": "poDPM8bgciQ5"
      },
      "execution_count": null,
      "outputs": []
    }
  ]
}
