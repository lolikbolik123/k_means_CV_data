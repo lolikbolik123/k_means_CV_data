{
  "nbformat": 4,
  "nbformat_minor": 0,
  "metadata": {
    "colab": {
      "provenance": [],
      "mount_file_id": "1mcILdrPwiHj5HR1ZdQLtWEAA07DrjFtH",
      "authorship_tag": "ABX9TyNYrkTJSX1SdkkVb5lMyL9L",
      "include_colab_link": true
    },
    "kernelspec": {
      "name": "python3",
      "display_name": "Python 3"
    },
    "language_info": {
      "name": "python"
    }
  },
  "cells": [
    {
      "cell_type": "markdown",
      "metadata": {
        "id": "view-in-github",
        "colab_type": "text"
      },
      "source": [
        "<a href=\"https://colab.research.google.com/github/lolikbolik123/k_means_CV_data/blob/main/k_means.ipynb\" target=\"_parent\"><img src=\"https://colab.research.google.com/assets/colab-badge.svg\" alt=\"Open In Colab\"/></a>"
      ]
    },
    {
      "cell_type": "code",
      "execution_count": 2,
      "metadata": {
        "id": "6paY8TBc4j29"
      },
      "outputs": [],
      "source": [
        "import numpy as np\n",
        "import csv\n",
        "import pandas as pd\n",
        "df = pd.read_csv('PC_csv_k_mean.csv', usecols = ['Eox', 'Ered', 'E00'])\n"
      ]
    },
    {
      "cell_type": "code",
      "source": [
        "X = df.loc[:, [\"Eox\", \"Ered\"]].to_numpy()\n",
        "Y = df.loc[:, \"E00\"].to_numpy()\n"
      ],
      "metadata": {
        "id": "OfdjhmlDciOp"
      },
      "execution_count": 3,
      "outputs": []
    },
    {
      "cell_type": "code",
      "source": [
        "from sklearn.model_selection import cross_val_score\n",
        "from sklearn.model_selection import RepeatedKFold\n",
        "from sklearn.linear_model import LinearRegression\n",
        "from sklearn.metrics import r2_score\n",
        "reg = LinearRegression()\n",
        "rkf = RepeatedKFold(n_splits=5, n_repeats=100, random_state = 100500)\n",
        "score = cross_val_score(reg, X, Y, cv=rkf, scoring = 'r2')\n",
        "print(np.median(score))\n",
        "print(np.mean(score))"
      ],
      "metadata": {
        "colab": {
          "base_uri": "https://localhost:8080/"
        },
        "id": "poDPM8bgciQ5",
        "outputId": "603cfcc8-bb43-4c0b-ded7-dc5f9f9acebb"
      },
      "execution_count": 4,
      "outputs": [
        {
          "output_type": "stream",
          "name": "stdout",
          "text": [
            "0.8993827654947839\n",
            "0.8760601468314424\n"
          ]
        }
      ]
    },
    {
      "cell_type": "code",
      "source": [
        "X_training = df.loc[0:28, [\"Eox\", \"Ered\"]].to_numpy()\n",
        "Y_training = df.loc[0:28, \"E00\"].to_numpy()\n",
        "X_valid = df.loc[29:36, [\"Eox\", \"Ered\"]].to_numpy()\n",
        "Y_valid = df.loc[29:36, \"E00\"].to_numpy()"
      ],
      "metadata": {
        "id": "53SRp82T1vsR"
      },
      "execution_count": 7,
      "outputs": []
    },
    {
      "cell_type": "code",
      "source": [
        "import sklearn as sk\n",
        "\n",
        "reg = sk.linear_model.LinearRegression()\n",
        "reg.fit(X_training, Y_training)\n",
        "# The coefficients\n",
        "print(\"regression_coefficients =\",reg.coef_)\n",
        "print(\"intercept =\", reg.intercept_)\n",
        "Y_pred = reg.predict(X_valid)\n",
        "\n",
        "print(\"Mean_squared_error =\", sk.metrics.mean_squared_error(Y_valid, Y_pred))\n",
        "print(\"Q2 =\", sk.metrics.r2_score(Y_valid, Y_pred))\n",
        "print(\"MAE =\", sk.metrics.mean_absolute_error(Y_valid, Y_pred))"
      ],
      "metadata": {
        "colab": {
          "base_uri": "https://localhost:8080/"
        },
        "id": "CVRP4JOP2F3c",
        "outputId": "308799d7-bd9b-4b97-d208-c29e6dd48b96"
      },
      "execution_count": 12,
      "outputs": [
        {
          "output_type": "stream",
          "name": "stdout",
          "text": [
            "regression_coefficients = [ 0.38363694 -0.83560308]\n",
            "intercept = 1.0027371829934981\n",
            "Mean_squared_error = 0.0020134593155099866\n",
            "Q2 = 0.9649833162520002\n",
            "MAE = 0.040726228082315186\n"
          ]
        }
      ]
    }
  ]
}